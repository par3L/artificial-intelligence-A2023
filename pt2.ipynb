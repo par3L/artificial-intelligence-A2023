{
 "cells": [
  {
   "cell_type": "code",
   "execution_count": null,
   "id": "f5f859fa",
   "metadata": {
    "vscode": {
     "languageId": "plaintext"
    }
   },
   "outputs": [],
   "source": [
    "import "
   ]
  }
 ],
 "metadata": {
  "language_info": {
   "name": "python"
  }
 },
 "nbformat": 4,
 "nbformat_minor": 5
}

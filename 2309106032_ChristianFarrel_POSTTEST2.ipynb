{
 "cells": [
  {
   "cell_type": "code",
   "execution_count": 20,
   "id": "f5f859fa",
   "metadata": {},
   "outputs": [],
   "source": [
    "import pandas as pd\n",
    "import numpy as np\n",
    "import matplotlib.pyplot as plt\n",
    "import seaborn as sns\n",
    "import kagglehub "
   ]
  },
  {
   "cell_type": "markdown",
   "id": "e4f7197b",
   "metadata": {},
   "source": [
    "<h2> Analisis Dataset Telco-churn\n",
    "<h3> Dataset desc: <br>\n",
    "<blockquote>\n",
    "\"Predict behavior to retain customers. You can analyze all relevant customer data and develop focused customer retention programs.\" [IBM Sample Data Sets]\n",
    "Content\n",
    "\n",
    "Each row represents a customer, each column contains customer’s attributes described on the column Metadata.\n",
    "\n",
    "https://www.kaggle.com/datasets/blastchar/telco-customer-churn?resource=download\n",
    "</blockquote>\n",
    "\n"
   ]
  },
  {
   "cell_type": "code",
   "execution_count": 21,
   "id": "bab10ff9",
   "metadata": {},
   "outputs": [
    {
     "name": "stdout",
     "output_type": "stream",
     "text": [
      "Path to dataset files: C:\\Users\\Farre\\.cache\\kagglehub\\datasets\\blastchar\\telco-customer-churn\\versions\\1\n"
     ]
    }
   ],
   "source": [
    "path = kagglehub.dataset_download(\"blastchar/telco-customer-churn\")\n",
    "print(\"Path to dataset files:\", path)"
   ]
  },
  {
   "cell_type": "markdown",
   "id": "4c259497",
   "metadata": {},
   "source": [
    "<blockquote>\n",
    "Download dataset menggunakan API KaggleHub\n",
    "</blockquote>"
   ]
  },
  {
   "cell_type": "code",
   "execution_count": 22,
   "id": "6ee2ffd3",
   "metadata": {},
   "outputs": [],
   "source": [
    "df = pd.read_csv(\"data/telco-churn.csv\")\n",
    "df[\"TotalCharges\"] = pd.to_numeric(df[\"TotalCharges\"], errors=\"coerce\")"
   ]
  },
  {
   "cell_type": "markdown",
   "id": "b815004d",
   "metadata": {},
   "source": [
    "<blockquote>\n",
    " Line pertama dari blok kode diatas untuk membaca dataset, lalu line ubah salah satu kolom menjadi numerik.\n",
    "</blockquote>"
   ]
  },
  {
   "cell_type": "code",
   "execution_count": 23,
   "id": "6c227feb",
   "metadata": {},
   "outputs": [
    {
     "name": "stdout",
     "output_type": "stream",
     "text": [
      "===== Statistik Deskriptif =====\n",
      "                 count         mean          std    min     25%       50%  \\\n",
      "SeniorCitizen   7043.0     0.162147     0.368612   0.00    0.00     0.000   \n",
      "tenure          7043.0    32.371149    24.559481   0.00    9.00    29.000   \n",
      "MonthlyCharges  7043.0    64.761692    30.090047  18.25   35.50    70.350   \n",
      "TotalCharges    7032.0  2283.300441  2266.771362  18.80  401.45  1397.475   \n",
      "\n",
      "                      75%      max      Q1        Q2         Q3  \n",
      "SeniorCitizen      0.0000     1.00    0.00     0.000     0.0000  \n",
      "tenure            55.0000    72.00    9.00    29.000    55.0000  \n",
      "MonthlyCharges    89.8500   118.75   35.50    70.350    89.8500  \n",
      "TotalCharges    3794.7375  8684.80  401.45  1397.475  3794.7375  \n"
     ]
    }
   ],
   "source": [
    "num_df = df.select_dtypes(include=[np.number])\n",
    "desc_stats = num_df.describe().T\n",
    "desc_stats[\"Q1\"] = num_df.quantile(0.25)\n",
    "desc_stats[\"Q2\"] = num_df.quantile(0.50)\n",
    "desc_stats[\"Q3\"] = num_df.quantile(0.75)\n",
    "\n",
    "print(\"===== Statistik Deskriptif =====\")\n",
    "print(desc_stats)\n"
   ]
  },
  {
   "cell_type": "markdown",
   "id": "3ab54fff",
   "metadata": {},
   "source": [
    "<blockquote>\n",
    "Menampilkan mean, std, min, max, Q1, Q2, Q3 dengan memastikan hanya kolom numerik\n",
    "</blockquote>"
   ]
  },
  {
   "cell_type": "code",
   "execution_count": 24,
   "id": "f966e888",
   "metadata": {},
   "outputs": [
    {
     "name": "stdout",
     "output_type": "stream",
     "text": [
      "   SeniorCitizen  tenure  MonthlyCharges  TotalCharges\n",
      "0              0       1           29.85         29.85\n",
      "1              0      34           56.95       1889.50\n",
      "2              0       2           53.85        108.15\n",
      "3              0      45           42.30       1840.75\n",
      "4              0       2           70.70        151.65\n",
      "5              0       8           99.65        820.50\n",
      "6              0      22           89.10       1949.40\n",
      "7              0      10           29.75        301.90\n",
      "8              0      28          104.80       3046.05\n",
      "9              0      62           56.15       3487.95\n"
     ]
    }
   ],
   "source": [
    "print(df.select_dtypes(include=[np.number]).head(10))"
   ]
  },
  {
   "cell_type": "markdown",
   "id": "0bf86bc2",
   "metadata": {},
   "source": [
    "<blockquote>\n",
    "Tampilkan 10 record pertama kolom numerik"
   ]
  },
  {
   "cell_type": "markdown",
   "id": "f8f5ac06",
   "metadata": {},
   "source": []
  },
  {
   "cell_type": "code",
   "execution_count": 25,
   "id": "d89c4d3a",
   "metadata": {},
   "outputs": [
    {
     "name": "stdout",
     "output_type": "stream",
     "text": [
      "\n",
      "===== Info Dataset =====\n",
      "Jumlah record: 7043\n",
      "Jumlah atribut: 21\n",
      "Nama atribut: ['customerID', 'gender', 'SeniorCitizen', 'Partner', 'Dependents', 'tenure', 'PhoneService', 'MultipleLines', 'InternetService', 'OnlineSecurity', 'OnlineBackup', 'DeviceProtection', 'TechSupport', 'StreamingTV', 'StreamingMovies', 'Contract', 'PaperlessBilling', 'PaymentMethod', 'MonthlyCharges', 'TotalCharges', 'Churn']\n",
      "Jumlah atribut numerik: 4\n"
     ]
    }
   ],
   "source": [
    "num_records = df.shape[0]\n",
    "num_attributes = df.shape[1]\n",
    "attribute_names = df.columns.tolist()\n",
    "num_numeric_attributes = df.select_dtypes(include=[np.number]).shape[1]\n",
    "\n",
    "\n",
    "print(\"\\n===== Info Dataset =====\")\n",
    "print(f\"Jumlah record: {num_records}\")\n",
    "print(f\"Jumlah atribut: {num_attributes}\")\n",
    "print(f\"Nama atribut: {attribute_names}\")\n",
    "print(f\"Jumlah atribut numerik: {num_numeric_attributes}\")"
   ]
  },
  {
   "cell_type": "code",
   "execution_count": null,
   "id": "0d677af4",
   "metadata": {},
   "outputs": [],
   "source": []
  },
  {
   "cell_type": "markdown",
   "id": "1a87513d",
   "metadata": {},
   "source": [
    "<blockquote>menampilkan informasi dataset"
   ]
  },
  {
   "cell_type": "code",
   "execution_count": 26,
   "id": "309de296",
   "metadata": {},
   "outputs": [
    {
     "name": "stdout",
     "output_type": "stream",
     "text": [
      "\n",
      "===== Jumlah Label pada Kolom Object =====\n",
      "customerID: 7043\n",
      "gender: 2\n",
      "Partner: 2\n",
      "Dependents: 2\n",
      "PhoneService: 2\n",
      "MultipleLines: 3\n",
      "InternetService: 3\n",
      "OnlineSecurity: 3\n",
      "OnlineBackup: 3\n",
      "DeviceProtection: 3\n",
      "TechSupport: 3\n",
      "StreamingTV: 3\n",
      "StreamingMovies: 3\n",
      "Contract: 3\n",
      "PaperlessBilling: 2\n",
      "PaymentMethod: 4\n",
      "Churn: 2\n"
     ]
    }
   ],
   "source": [
    "object_columns = df.select_dtypes(include=['object']).columns\n",
    "object_unique_counts = {col: df[col].nunique() for col in object_columns}\n",
    "\n",
    "\n",
    "print(\"\\n===== Jumlah Label pada Kolom Object =====\")\n",
    "for col, count in object_unique_counts.items():\n",
    "    print(f\"{col}: {count}\")"
   ]
  },
  {
   "cell_type": "markdown",
   "id": "6c367780",
   "metadata": {},
   "source": [
    "<blockquote>menghitung jumlah nilai unik untuk setiap atribut bertipe object"
   ]
  },
  {
   "cell_type": "code",
   "execution_count": 27,
   "id": "116cd2dc",
   "metadata": {},
   "outputs": [
    {
     "data": {
      "image/png": "[encoded data removed]",
      "text/plain": [
       "<Figure size 800x500 with 1 Axes>"
      ]
     },
     "metadata": {},
     "output_type": "display_data"
    }
   ],
   "source": [
    "plt.figure(figsize=(8,5))\n",
    "sns.boxplot(x=\"Churn\", y=\"MonthlyCharges\", data=df)\n",
    "plt.title(\"Distribusi Monthly Charges berdasarkan Churn\")\n",
    "plt.show()"
   ]
  },
  {
   "cell_type": "markdown",
   "id": "d77c05a7",
   "metadata": {},
   "source": [
    "<blockquote>visualisasi dataset"
   ]
  },
  {
   "cell_type": "code",
   "execution_count": 28,
   "id": "99fbe549",
   "metadata": {},
   "outputs": [
    {
     "data": {
      "image/png": "[encoded data removed]",
      "text/plain": [
       "<Figure size 800x600 with 2 Axes>"
      ]
     },
     "metadata": {},
     "output_type": "display_data"
    }
   ],
   "source": [
    "plt.figure(figsize=(8,6))\n",
    "sns.heatmap(df.corr(numeric_only=True), annot=True, cmap=\"coolwarm\", fmt=\".2f\")\n",
    "plt.title(\"Heatmap Korelasi Atribut Numerik\")\n",
    "plt.show()"
   ]
  },
  {
   "cell_type": "markdown",
   "id": "204d1538",
   "metadata": {},
   "source": [
    "<blockquote>korelasi"
   ]
  },
  {
   "cell_type": "markdown",
   "id": "7ac5a77b",
   "metadata": {},
   "source": [
    "<h2> Kesimpulan\n",
    "<blockquote>\n",
    "<h6>\n",
    "- Mayoritas pelanggan bukan lansia (~84%) <br>\n",
    "- Rata-rata lama berlangganan 32 bulan<br>\n",
    "- Biaya bulanan tinggi cenderung lebih sering churn<br>\n",
    "- TotalCharges sangat dipengaruhi oleh tenure (lama berlangganan)\n",
    "</blockquote>"
   ]
  }
 ],
 "metadata": {
  "kernelspec": {
   "display_name": "jupy-env-032 (3.13.7)",
   "language": "python",
   "name": "python3"
  },
  "language_info": {
   "codemirror_mode": {
    "name": "ipython",
    "version": 3
   },
   "file_extension": ".py",
   "mimetype": "text/x-python",
   "name": "python",
   "nbconvert_exporter": "python",
   "pygments_lexer": "ipython3",
   "version": "3.13.7"
  }
 },
 "nbformat": 4,
 "nbformat_minor": 5
}
